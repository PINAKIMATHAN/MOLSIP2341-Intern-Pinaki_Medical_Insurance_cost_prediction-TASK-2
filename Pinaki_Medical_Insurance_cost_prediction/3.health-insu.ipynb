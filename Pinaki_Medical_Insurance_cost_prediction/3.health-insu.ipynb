{
 "cells": [
  {
   "cell_type": "code",
   "execution_count": 1,
   "metadata": {
    "execution": {
     "iopub.execute_input": "2023-11-10T19:21:55.901966Z",
     "iopub.status.busy": "2023-11-10T19:21:55.901358Z",
     "iopub.status.idle": "2023-11-10T19:21:56.316315Z",
     "shell.execute_reply": "2023-11-10T19:21:56.315167Z",
     "shell.execute_reply.started": "2023-11-10T19:21:55.901932Z"
    }
   },
   "outputs": [],
   "source": [
    "import pandas as pd\n",
    "dataset = pd.read_csv('/kaggle/input/insurance/insurance.csv')"
   ]
  },
  {
   "cell_type": "code",
   "execution_count": 2,
   "metadata": {
    "colab": {
     "base_uri": "https://localhost:8080/",
     "height": 424
    },
    "execution": {
     "iopub.execute_input": "2023-11-10T19:21:56.318814Z",
     "iopub.status.busy": "2023-11-10T19:21:56.318351Z",
     "iopub.status.idle": "2023-11-10T19:21:56.354590Z",
     "shell.execute_reply": "2023-11-10T19:21:56.353476Z",
     "shell.execute_reply.started": "2023-11-10T19:21:56.318780Z"
    },
    "id": "KnDUO5VxLEhR",
    "outputId": "4492eba6-af4f-428f-8c31-dc096d8eb3ba"
   },
   "outputs": [
    {
     "data": {
      "text/html": [
       "<div>\n",
       "<style scoped>\n",
       "    .dataframe tbody tr th:only-of-type {\n",
       "        vertical-align: middle;\n",
       "    }\n",
       "\n",
       "    .dataframe tbody tr th {\n",
       "        vertical-align: top;\n",
       "    }\n",
       "\n",
       "    .dataframe thead th {\n",
       "        text-align: right;\n",
       "    }\n",
       "</style>\n",
       "<table border=\"1\" class=\"dataframe\">\n",
       "  <thead>\n",
       "    <tr style=\"text-align: right;\">\n",
       "      <th></th>\n",
       "      <th>age</th>\n",
       "      <th>sex</th>\n",
       "      <th>bmi</th>\n",
       "      <th>children</th>\n",
       "      <th>smoker</th>\n",
       "      <th>region</th>\n",
       "      <th>charges</th>\n",
       "    </tr>\n",
       "  </thead>\n",
       "  <tbody>\n",
       "    <tr>\n",
       "      <th>0</th>\n",
       "      <td>19</td>\n",
       "      <td>female</td>\n",
       "      <td>27.900</td>\n",
       "      <td>0</td>\n",
       "      <td>yes</td>\n",
       "      <td>southwest</td>\n",
       "      <td>16884.92400</td>\n",
       "    </tr>\n",
       "    <tr>\n",
       "      <th>1</th>\n",
       "      <td>18</td>\n",
       "      <td>male</td>\n",
       "      <td>33.770</td>\n",
       "      <td>1</td>\n",
       "      <td>no</td>\n",
       "      <td>southeast</td>\n",
       "      <td>1725.55230</td>\n",
       "    </tr>\n",
       "    <tr>\n",
       "      <th>2</th>\n",
       "      <td>28</td>\n",
       "      <td>male</td>\n",
       "      <td>33.000</td>\n",
       "      <td>3</td>\n",
       "      <td>no</td>\n",
       "      <td>southeast</td>\n",
       "      <td>4449.46200</td>\n",
       "    </tr>\n",
       "    <tr>\n",
       "      <th>3</th>\n",
       "      <td>33</td>\n",
       "      <td>male</td>\n",
       "      <td>22.705</td>\n",
       "      <td>0</td>\n",
       "      <td>no</td>\n",
       "      <td>northwest</td>\n",
       "      <td>21984.47061</td>\n",
       "    </tr>\n",
       "    <tr>\n",
       "      <th>4</th>\n",
       "      <td>32</td>\n",
       "      <td>male</td>\n",
       "      <td>28.880</td>\n",
       "      <td>0</td>\n",
       "      <td>no</td>\n",
       "      <td>northwest</td>\n",
       "      <td>3866.85520</td>\n",
       "    </tr>\n",
       "    <tr>\n",
       "      <th>...</th>\n",
       "      <td>...</td>\n",
       "      <td>...</td>\n",
       "      <td>...</td>\n",
       "      <td>...</td>\n",
       "      <td>...</td>\n",
       "      <td>...</td>\n",
       "      <td>...</td>\n",
       "    </tr>\n",
       "    <tr>\n",
       "      <th>1333</th>\n",
       "      <td>50</td>\n",
       "      <td>male</td>\n",
       "      <td>30.970</td>\n",
       "      <td>3</td>\n",
       "      <td>no</td>\n",
       "      <td>northwest</td>\n",
       "      <td>10600.54830</td>\n",
       "    </tr>\n",
       "    <tr>\n",
       "      <th>1334</th>\n",
       "      <td>18</td>\n",
       "      <td>female</td>\n",
       "      <td>31.920</td>\n",
       "      <td>0</td>\n",
       "      <td>no</td>\n",
       "      <td>northeast</td>\n",
       "      <td>2205.98080</td>\n",
       "    </tr>\n",
       "    <tr>\n",
       "      <th>1335</th>\n",
       "      <td>18</td>\n",
       "      <td>female</td>\n",
       "      <td>36.850</td>\n",
       "      <td>0</td>\n",
       "      <td>no</td>\n",
       "      <td>southeast</td>\n",
       "      <td>1629.83350</td>\n",
       "    </tr>\n",
       "    <tr>\n",
       "      <th>1336</th>\n",
       "      <td>21</td>\n",
       "      <td>female</td>\n",
       "      <td>25.800</td>\n",
       "      <td>0</td>\n",
       "      <td>no</td>\n",
       "      <td>southwest</td>\n",
       "      <td>2007.94500</td>\n",
       "    </tr>\n",
       "    <tr>\n",
       "      <th>1337</th>\n",
       "      <td>61</td>\n",
       "      <td>female</td>\n",
       "      <td>29.070</td>\n",
       "      <td>0</td>\n",
       "      <td>yes</td>\n",
       "      <td>northwest</td>\n",
       "      <td>29141.36030</td>\n",
       "    </tr>\n",
       "  </tbody>\n",
       "</table>\n",
       "<p>1338 rows × 7 columns</p>\n",
       "</div>"
      ],
      "text/plain": [
       "      age     sex     bmi  children smoker     region      charges\n",
       "0      19  female  27.900         0    yes  southwest  16884.92400\n",
       "1      18    male  33.770         1     no  southeast   1725.55230\n",
       "2      28    male  33.000         3     no  southeast   4449.46200\n",
       "3      33    male  22.705         0     no  northwest  21984.47061\n",
       "4      32    male  28.880         0     no  northwest   3866.85520\n",
       "...   ...     ...     ...       ...    ...        ...          ...\n",
       "1333   50    male  30.970         3     no  northwest  10600.54830\n",
       "1334   18  female  31.920         0     no  northeast   2205.98080\n",
       "1335   18  female  36.850         0     no  southeast   1629.83350\n",
       "1336   21  female  25.800         0     no  southwest   2007.94500\n",
       "1337   61  female  29.070         0    yes  northwest  29141.36030\n",
       "\n",
       "[1338 rows x 7 columns]"
      ]
     },
     "execution_count": 2,
     "metadata": {},
     "output_type": "execute_result"
    }
   ],
   "source": [
    "dataset"
   ]
  },
  {
   "cell_type": "code",
   "execution_count": 3,
   "metadata": {
    "execution": {
     "iopub.execute_input": "2023-11-10T19:21:56.358817Z",
     "iopub.status.busy": "2023-11-10T19:21:56.358111Z",
     "iopub.status.idle": "2023-11-10T19:21:56.370223Z",
     "shell.execute_reply": "2023-11-10T19:21:56.368822Z",
     "shell.execute_reply.started": "2023-11-10T19:21:56.358772Z"
    }
   },
   "outputs": [
    {
     "data": {
      "text/plain": [
       "age         0\n",
       "sex         0\n",
       "bmi         0\n",
       "children    0\n",
       "smoker      0\n",
       "region      0\n",
       "charges     0\n",
       "dtype: int64"
      ]
     },
     "execution_count": 3,
     "metadata": {},
     "output_type": "execute_result"
    }
   ],
   "source": [
    "dataset.isnull().sum()"
   ]
  },
  {
   "cell_type": "code",
   "execution_count": 4,
   "metadata": {
    "execution": {
     "iopub.execute_input": "2023-11-10T19:21:56.374067Z",
     "iopub.status.busy": "2023-11-10T19:21:56.373239Z",
     "iopub.status.idle": "2023-11-10T19:21:56.380239Z",
     "shell.execute_reply": "2023-11-10T19:21:56.379380Z",
     "shell.execute_reply.started": "2023-11-10T19:21:56.374019Z"
    }
   },
   "outputs": [],
   "source": [
    "X = dataset.iloc[:, 0:6].values\n",
    "Y = dataset.iloc[:, -1].values"
   ]
  },
  {
   "cell_type": "code",
   "execution_count": 5,
   "metadata": {
    "execution": {
     "iopub.execute_input": "2023-11-10T19:21:56.382287Z",
     "iopub.status.busy": "2023-11-10T19:21:56.381376Z",
     "iopub.status.idle": "2023-11-10T19:21:56.397883Z",
     "shell.execute_reply": "2023-11-10T19:21:56.396743Z",
     "shell.execute_reply.started": "2023-11-10T19:21:56.382248Z"
    }
   },
   "outputs": [
    {
     "data": {
      "text/plain": [
       "array([[19, 'female', 27.9, 0, 'yes', 'southwest'],\n",
       "       [18, 'male', 33.77, 1, 'no', 'southeast'],\n",
       "       [28, 'male', 33.0, 3, 'no', 'southeast'],\n",
       "       ...,\n",
       "       [18, 'female', 36.85, 0, 'no', 'southeast'],\n",
       "       [21, 'female', 25.8, 0, 'no', 'southwest'],\n",
       "       [61, 'female', 29.07, 0, 'yes', 'northwest']], dtype=object)"
      ]
     },
     "execution_count": 5,
     "metadata": {},
     "output_type": "execute_result"
    }
   ],
   "source": [
    "X"
   ]
  },
  {
   "cell_type": "code",
   "execution_count": 6,
   "metadata": {
    "execution": {
     "iopub.execute_input": "2023-11-10T19:21:56.400150Z",
     "iopub.status.busy": "2023-11-10T19:21:56.399688Z",
     "iopub.status.idle": "2023-11-10T19:21:56.409118Z",
     "shell.execute_reply": "2023-11-10T19:21:56.407708Z",
     "shell.execute_reply.started": "2023-11-10T19:21:56.400107Z"
    }
   },
   "outputs": [
    {
     "data": {
      "text/plain": [
       "array([16884.924 ,  1725.5523,  4449.462 , ...,  1629.8335,  2007.945 ,\n",
       "       29141.3603])"
      ]
     },
     "execution_count": 6,
     "metadata": {},
     "output_type": "execute_result"
    }
   ],
   "source": [
    "Y"
   ]
  },
  {
   "cell_type": "code",
   "execution_count": 7,
   "metadata": {
    "execution": {
     "iopub.execute_input": "2023-11-10T19:21:56.410723Z",
     "iopub.status.busy": "2023-11-10T19:21:56.410214Z",
     "iopub.status.idle": "2023-11-10T19:21:57.712154Z",
     "shell.execute_reply": "2023-11-10T19:21:57.711061Z",
     "shell.execute_reply.started": "2023-11-10T19:21:56.410683Z"
    },
    "id": "6yfPVPCeQShu"
   },
   "outputs": [],
   "source": [
    "from sklearn.preprocessing import LabelEncoder\n",
    "le = LabelEncoder()\n",
    "X[:, 1] = le.fit_transform(X[:, 1])\n",
    "X[:, 4] = le.fit_transform(X[:, 4])\n",
    "X[:, 5] = le.fit_transform(X[:, 5])"
   ]
  },
  {
   "cell_type": "code",
   "execution_count": 8,
   "metadata": {
    "execution": {
     "iopub.execute_input": "2023-11-10T19:21:57.714598Z",
     "iopub.status.busy": "2023-11-10T19:21:57.714134Z",
     "iopub.status.idle": "2023-11-10T19:21:57.723987Z",
     "shell.execute_reply": "2023-11-10T19:21:57.722671Z",
     "shell.execute_reply.started": "2023-11-10T19:21:57.714551Z"
    }
   },
   "outputs": [
    {
     "data": {
      "text/plain": [
       "array([[19, 0, 27.9, 0, 1, 3],\n",
       "       [18, 1, 33.77, 1, 0, 2],\n",
       "       [28, 1, 33.0, 3, 0, 2],\n",
       "       ...,\n",
       "       [18, 0, 36.85, 0, 0, 2],\n",
       "       [21, 0, 25.8, 0, 0, 3],\n",
       "       [61, 0, 29.07, 0, 1, 1]], dtype=object)"
      ]
     },
     "execution_count": 8,
     "metadata": {},
     "output_type": "execute_result"
    }
   ],
   "source": [
    "X"
   ]
  },
  {
   "cell_type": "code",
   "execution_count": 9,
   "metadata": {
    "execution": {
     "iopub.execute_input": "2023-11-10T19:21:57.726208Z",
     "iopub.status.busy": "2023-11-10T19:21:57.725624Z",
     "iopub.status.idle": "2023-11-10T19:21:57.736488Z",
     "shell.execute_reply": "2023-11-10T19:21:57.735348Z",
     "shell.execute_reply.started": "2023-11-10T19:21:57.726164Z"
    },
    "id": "sY1a5WATXYAF"
   },
   "outputs": [],
   "source": [
    "from sklearn.preprocessing import MinMaxScaler\n",
    "sc = MinMaxScaler()\n",
    "X = sc.fit_transform(X)"
   ]
  },
  {
   "cell_type": "code",
   "execution_count": 10,
   "metadata": {
    "execution": {
     "iopub.execute_input": "2023-11-10T19:21:57.745558Z",
     "iopub.status.busy": "2023-11-10T19:21:57.744713Z",
     "iopub.status.idle": "2023-11-10T19:21:57.755583Z",
     "shell.execute_reply": "2023-11-10T19:21:57.754142Z",
     "shell.execute_reply.started": "2023-11-10T19:21:57.745501Z"
    }
   },
   "outputs": [
    {
     "data": {
      "text/plain": [
       "array([[0.02173913, 0.        , 0.3212268 , 0.        , 1.        ,\n",
       "        1.        ],\n",
       "       [0.        , 1.        , 0.47914985, 0.2       , 0.        ,\n",
       "        0.66666667],\n",
       "       [0.2173913 , 1.        , 0.45843422, 0.6       , 0.        ,\n",
       "        0.66666667],\n",
       "       ...,\n",
       "       [0.        , 0.        , 0.56201238, 0.        , 0.        ,\n",
       "        0.66666667],\n",
       "       [0.06521739, 0.        , 0.26472962, 0.        , 0.        ,\n",
       "        1.        ],\n",
       "       [0.93478261, 0.        , 0.35270379, 0.        , 1.        ,\n",
       "        0.33333333]])"
      ]
     },
     "execution_count": 10,
     "metadata": {},
     "output_type": "execute_result"
    }
   ],
   "source": [
    "X"
   ]
  },
  {
   "cell_type": "code",
   "execution_count": 11,
   "metadata": {
    "execution": {
     "iopub.execute_input": "2023-11-10T19:21:57.757688Z",
     "iopub.status.busy": "2023-11-10T19:21:57.757153Z",
     "iopub.status.idle": "2023-11-10T19:21:57.767551Z",
     "shell.execute_reply": "2023-11-10T19:21:57.766334Z",
     "shell.execute_reply.started": "2023-11-10T19:21:57.757548Z"
    }
   },
   "outputs": [],
   "source": [
    "Y = Y.reshape(-1, 1)\n",
    "Y = sc.fit_transform(Y)"
   ]
  },
  {
   "cell_type": "code",
   "execution_count": 12,
   "metadata": {
    "execution": {
     "iopub.execute_input": "2023-11-10T19:21:57.769199Z",
     "iopub.status.busy": "2023-11-10T19:21:57.768772Z",
     "iopub.status.idle": "2023-11-10T19:21:57.782954Z",
     "shell.execute_reply": "2023-11-10T19:21:57.781665Z",
     "shell.execute_reply.started": "2023-11-10T19:21:57.769157Z"
    }
   },
   "outputs": [
    {
     "data": {
      "text/plain": [
       "array([[0.25161076],\n",
       "       [0.00963595],\n",
       "       [0.05311516],\n",
       "       ...,\n",
       "       [0.00810808],\n",
       "       [0.01414352],\n",
       "       [0.44724873]])"
      ]
     },
     "execution_count": 12,
     "metadata": {},
     "output_type": "execute_result"
    }
   ],
   "source": [
    "Y"
   ]
  },
  {
   "cell_type": "code",
   "execution_count": 13,
   "metadata": {
    "execution": {
     "iopub.execute_input": "2023-11-10T19:21:57.785268Z",
     "iopub.status.busy": "2023-11-10T19:21:57.784806Z",
     "iopub.status.idle": "2023-11-10T19:21:57.910091Z",
     "shell.execute_reply": "2023-11-10T19:21:57.908671Z",
     "shell.execute_reply.started": "2023-11-10T19:21:57.785225Z"
    },
    "id": "4Uy3JI3wLEhV"
   },
   "outputs": [],
   "source": [
    "from sklearn.model_selection import train_test_split\n",
    "X_train, X_test, Y_train, Y_test = train_test_split(X, Y, train_size=0.80, random_state=42)"
   ]
  },
  {
   "cell_type": "code",
   "execution_count": 14,
   "metadata": {
    "colab": {
     "base_uri": "https://localhost:8080/"
    },
    "execution": {
     "iopub.execute_input": "2023-11-10T19:21:57.912367Z",
     "iopub.status.busy": "2023-11-10T19:21:57.911677Z",
     "iopub.status.idle": "2023-11-10T19:21:57.921077Z",
     "shell.execute_reply": "2023-11-10T19:21:57.919695Z",
     "shell.execute_reply.started": "2023-11-10T19:21:57.912323Z"
    },
    "id": "1UeoTcLeLEhV",
    "outputId": "c05a8c1b-5d0b-4f01-c6c0-4e39829a7541"
   },
   "outputs": [
    {
     "data": {
      "text/plain": [
       "(1070, 6)"
      ]
     },
     "execution_count": 14,
     "metadata": {},
     "output_type": "execute_result"
    }
   ],
   "source": [
    "X_train.shape"
   ]
  },
  {
   "cell_type": "code",
   "execution_count": 15,
   "metadata": {
    "colab": {
     "base_uri": "https://localhost:8080/"
    },
    "execution": {
     "iopub.execute_input": "2023-11-10T19:21:57.923553Z",
     "iopub.status.busy": "2023-11-10T19:21:57.922661Z",
     "iopub.status.idle": "2023-11-10T19:21:57.933857Z",
     "shell.execute_reply": "2023-11-10T19:21:57.932607Z",
     "shell.execute_reply.started": "2023-11-10T19:21:57.923499Z"
    },
    "id": "5XJe0fkuLEhV",
    "outputId": "8dd9eac1-ffe9-4b13-ccae-6c597584280e"
   },
   "outputs": [
    {
     "data": {
      "text/plain": [
       "(268, 6)"
      ]
     },
     "execution_count": 15,
     "metadata": {},
     "output_type": "execute_result"
    }
   ],
   "source": [
    "X_test.shape"
   ]
  },
  {
   "cell_type": "code",
   "execution_count": 16,
   "metadata": {
    "execution": {
     "iopub.execute_input": "2023-11-10T19:21:57.936401Z",
     "iopub.status.busy": "2023-11-10T19:21:57.935373Z",
     "iopub.status.idle": "2023-11-10T19:22:11.527568Z",
     "shell.execute_reply": "2023-11-10T19:22:11.526465Z",
     "shell.execute_reply.started": "2023-11-10T19:21:57.936358Z"
    },
    "id": "VtiITIf2LEhW"
   },
   "outputs": [],
   "source": [
    "from tensorflow.keras.models import Sequential\n",
    "from tensorflow.keras.layers import Dense\n",
    "from tensorflow.keras.optimizers import Adam"
   ]
  },
  {
   "cell_type": "code",
   "execution_count": 17,
   "metadata": {
    "execution": {
     "iopub.execute_input": "2023-11-10T19:22:11.530142Z",
     "iopub.status.busy": "2023-11-10T19:22:11.529251Z",
     "iopub.status.idle": "2023-11-10T19:22:11.730785Z",
     "shell.execute_reply": "2023-11-10T19:22:11.729950Z",
     "shell.execute_reply.started": "2023-11-10T19:22:11.530093Z"
    },
    "id": "39LbYuLpLEhW"
   },
   "outputs": [],
   "source": [
    "# define the keras model\n",
    "model = Sequential(name='sequential_1')\n",
    "model.add(Dense(12, input_dim=6, activation='relu', name='dense_1'))\n",
    "model.add(Dense(1,  activation='linear', name='output'))\n",
    "# compile the keras model\n",
    "model.compile(loss='mse', optimizer=Adam(learning_rate=0.001), metrics=['mae'])"
   ]
  },
  {
   "cell_type": "code",
   "execution_count": 18,
   "metadata": {
    "colab": {
     "base_uri": "https://localhost:8080/"
    },
    "execution": {
     "iopub.execute_input": "2023-11-10T19:22:11.733005Z",
     "iopub.status.busy": "2023-11-10T19:22:11.732299Z",
     "iopub.status.idle": "2023-11-10T19:22:11.744482Z",
     "shell.execute_reply": "2023-11-10T19:22:11.743183Z",
     "shell.execute_reply.started": "2023-11-10T19:22:11.732962Z"
    },
    "id": "UNcJ-VNkLEhW",
    "outputId": "9385bf21-72d5-4c25-fe5e-00ccdca89193"
   },
   "outputs": [
    {
     "data": {
      "text/plain": [
       "{'name': 'Adam',\n",
       " 'weight_decay': None,\n",
       " 'clipnorm': None,\n",
       " 'global_clipnorm': None,\n",
       " 'clipvalue': None,\n",
       " 'use_ema': False,\n",
       " 'ema_momentum': 0.99,\n",
       " 'ema_overwrite_frequency': None,\n",
       " 'jit_compile': False,\n",
       " 'is_legacy_optimizer': False,\n",
       " 'learning_rate': 0.001,\n",
       " 'beta_1': 0.9,\n",
       " 'beta_2': 0.999,\n",
       " 'epsilon': 1e-07,\n",
       " 'amsgrad': False}"
      ]
     },
     "execution_count": 18,
     "metadata": {},
     "output_type": "execute_result"
    }
   ],
   "source": [
    "model.optimizer.get_config()"
   ]
  },
  {
   "cell_type": "code",
   "execution_count": 19,
   "metadata": {
    "colab": {
     "base_uri": "https://localhost:8080/"
    },
    "execution": {
     "iopub.execute_input": "2023-11-10T19:22:11.746672Z",
     "iopub.status.busy": "2023-11-10T19:22:11.746177Z",
     "iopub.status.idle": "2023-11-10T19:22:11.767808Z",
     "shell.execute_reply": "2023-11-10T19:22:11.766643Z",
     "shell.execute_reply.started": "2023-11-10T19:22:11.746630Z"
    },
    "id": "N3mBa0LFLEhW",
    "outputId": "7d67e53f-bef3-4592-c27b-4678598cd8f9"
   },
   "outputs": [
    {
     "name": "stdout",
     "output_type": "stream",
     "text": [
      "Model: \"sequential_1\"\n",
      "_________________________________________________________________\n",
      " Layer (type)                Output Shape              Param #   \n",
      "=================================================================\n",
      " dense_1 (Dense)             (None, 12)                84        \n",
      "                                                                 \n",
      " output (Dense)              (None, 1)                 13        \n",
      "                                                                 \n",
      "=================================================================\n",
      "Total params: 97 (388.00 Byte)\n",
      "Trainable params: 97 (388.00 Byte)\n",
      "Non-trainable params: 0 (0.00 Byte)\n",
      "_________________________________________________________________\n"
     ]
    }
   ],
   "source": [
    "model.summary()"
   ]
  },
  {
   "cell_type": "code",
   "execution_count": 20,
   "metadata": {
    "colab": {
     "base_uri": "https://localhost:8080/"
    },
    "execution": {
     "iopub.execute_input": "2023-11-10T19:22:11.770090Z",
     "iopub.status.busy": "2023-11-10T19:22:11.769647Z",
     "iopub.status.idle": "2023-11-10T19:22:14.860086Z",
     "shell.execute_reply": "2023-11-10T19:22:14.859203Z",
     "shell.execute_reply.started": "2023-11-10T19:22:11.770048Z"
    },
    "id": "qQVW1w5nLEhX",
    "outputId": "4d3671a5-df5f-4c58-b609-e61d0d6260ba"
   },
   "outputs": [
    {
     "name": "stdout",
     "output_type": "stream",
     "text": [
      "Epoch 1/100\n",
      "10/10 [==============================] - 1s 3ms/step - loss: 0.0517 - mae: 0.1821\n",
      "Epoch 2/100\n",
      "10/10 [==============================] - 0s 2ms/step - loss: 0.0380 - mae: 0.1579\n",
      "Epoch 3/100\n",
      "10/10 [==============================] - 0s 2ms/step - loss: 0.0309 - mae: 0.1440\n",
      "Epoch 4/100\n",
      "10/10 [==============================] - 0s 2ms/step - loss: 0.0272 - mae: 0.1355\n",
      "Epoch 5/100\n",
      "10/10 [==============================] - 0s 2ms/step - loss: 0.0245 - mae: 0.1277\n",
      "Epoch 6/100\n",
      "10/10 [==============================] - 0s 2ms/step - loss: 0.0222 - mae: 0.1205\n",
      "Epoch 7/100\n",
      "10/10 [==============================] - 0s 2ms/step - loss: 0.0204 - mae: 0.1142\n",
      "Epoch 8/100\n",
      "10/10 [==============================] - 0s 2ms/step - loss: 0.0188 - mae: 0.1086\n",
      "Epoch 9/100\n",
      "10/10 [==============================] - 0s 2ms/step - loss: 0.0175 - mae: 0.1042\n",
      "Epoch 10/100\n",
      "10/10 [==============================] - 0s 2ms/step - loss: 0.0165 - mae: 0.1003\n",
      "Epoch 11/100\n",
      "10/10 [==============================] - 0s 2ms/step - loss: 0.0155 - mae: 0.0965\n",
      "Epoch 12/100\n",
      "10/10 [==============================] - 0s 2ms/step - loss: 0.0148 - mae: 0.0927\n",
      "Epoch 13/100\n",
      "10/10 [==============================] - 0s 2ms/step - loss: 0.0141 - mae: 0.0898\n",
      "Epoch 14/100\n",
      "10/10 [==============================] - 0s 2ms/step - loss: 0.0136 - mae: 0.0871\n",
      "Epoch 15/100\n",
      "10/10 [==============================] - 0s 2ms/step - loss: 0.0131 - mae: 0.0851\n",
      "Epoch 16/100\n",
      "10/10 [==============================] - 0s 2ms/step - loss: 0.0127 - mae: 0.0829\n",
      "Epoch 17/100\n",
      "10/10 [==============================] - 0s 2ms/step - loss: 0.0124 - mae: 0.0809\n",
      "Epoch 18/100\n",
      "10/10 [==============================] - 0s 2ms/step - loss: 0.0121 - mae: 0.0793\n",
      "Epoch 19/100\n",
      "10/10 [==============================] - 0s 2ms/step - loss: 0.0118 - mae: 0.0782\n",
      "Epoch 20/100\n",
      "10/10 [==============================] - 0s 2ms/step - loss: 0.0116 - mae: 0.0770\n",
      "Epoch 21/100\n",
      "10/10 [==============================] - 0s 2ms/step - loss: 0.0113 - mae: 0.0756\n",
      "Epoch 22/100\n",
      "10/10 [==============================] - 0s 2ms/step - loss: 0.0111 - mae: 0.0741\n",
      "Epoch 23/100\n",
      "10/10 [==============================] - 0s 2ms/step - loss: 0.0109 - mae: 0.0737\n",
      "Epoch 24/100\n",
      "10/10 [==============================] - 0s 2ms/step - loss: 0.0107 - mae: 0.0721\n",
      "Epoch 25/100\n",
      "10/10 [==============================] - 0s 2ms/step - loss: 0.0105 - mae: 0.0702\n",
      "Epoch 26/100\n",
      "10/10 [==============================] - 0s 2ms/step - loss: 0.0103 - mae: 0.0709\n",
      "Epoch 27/100\n",
      "10/10 [==============================] - 0s 2ms/step - loss: 0.0100 - mae: 0.0690\n",
      "Epoch 28/100\n",
      "10/10 [==============================] - 0s 2ms/step - loss: 0.0098 - mae: 0.0683\n",
      "Epoch 29/100\n",
      "10/10 [==============================] - 0s 2ms/step - loss: 0.0096 - mae: 0.0668\n",
      "Epoch 30/100\n",
      "10/10 [==============================] - 0s 2ms/step - loss: 0.0095 - mae: 0.0661\n",
      "Epoch 31/100\n",
      "10/10 [==============================] - 0s 2ms/step - loss: 0.0093 - mae: 0.0656\n",
      "Epoch 32/100\n",
      "10/10 [==============================] - 0s 2ms/step - loss: 0.0091 - mae: 0.0645\n",
      "Epoch 33/100\n",
      "10/10 [==============================] - 0s 2ms/step - loss: 0.0090 - mae: 0.0642\n",
      "Epoch 34/100\n",
      "10/10 [==============================] - 0s 2ms/step - loss: 0.0089 - mae: 0.0629\n",
      "Epoch 35/100\n",
      "10/10 [==============================] - 0s 2ms/step - loss: 0.0088 - mae: 0.0630\n",
      "Epoch 36/100\n",
      "10/10 [==============================] - 0s 2ms/step - loss: 0.0087 - mae: 0.0632\n",
      "Epoch 37/100\n",
      "10/10 [==============================] - 0s 2ms/step - loss: 0.0086 - mae: 0.0619\n",
      "Epoch 38/100\n",
      "10/10 [==============================] - 0s 2ms/step - loss: 0.0085 - mae: 0.0619\n",
      "Epoch 39/100\n",
      "10/10 [==============================] - 0s 2ms/step - loss: 0.0084 - mae: 0.0609\n",
      "Epoch 40/100\n",
      "10/10 [==============================] - 0s 2ms/step - loss: 0.0083 - mae: 0.0607\n",
      "Epoch 41/100\n",
      "10/10 [==============================] - 0s 2ms/step - loss: 0.0082 - mae: 0.0605\n",
      "Epoch 42/100\n",
      "10/10 [==============================] - 0s 2ms/step - loss: 0.0082 - mae: 0.0605\n",
      "Epoch 43/100\n",
      "10/10 [==============================] - 0s 2ms/step - loss: 0.0081 - mae: 0.0598\n",
      "Epoch 44/100\n",
      "10/10 [==============================] - 0s 2ms/step - loss: 0.0080 - mae: 0.0598\n",
      "Epoch 45/100\n",
      "10/10 [==============================] - 0s 2ms/step - loss: 0.0080 - mae: 0.0587\n",
      "Epoch 46/100\n",
      "10/10 [==============================] - 0s 2ms/step - loss: 0.0079 - mae: 0.0581\n",
      "Epoch 47/100\n",
      "10/10 [==============================] - 0s 2ms/step - loss: 0.0078 - mae: 0.0583\n",
      "Epoch 48/100\n",
      "10/10 [==============================] - 0s 2ms/step - loss: 0.0078 - mae: 0.0575\n",
      "Epoch 49/100\n",
      "10/10 [==============================] - 0s 2ms/step - loss: 0.0077 - mae: 0.0586\n",
      "Epoch 50/100\n",
      "10/10 [==============================] - 0s 2ms/step - loss: 0.0077 - mae: 0.0579\n",
      "Epoch 51/100\n",
      "10/10 [==============================] - 0s 2ms/step - loss: 0.0077 - mae: 0.0566\n",
      "Epoch 52/100\n",
      "10/10 [==============================] - 0s 2ms/step - loss: 0.0076 - mae: 0.0566\n",
      "Epoch 53/100\n",
      "10/10 [==============================] - 0s 2ms/step - loss: 0.0076 - mae: 0.0567\n",
      "Epoch 54/100\n",
      "10/10 [==============================] - 0s 2ms/step - loss: 0.0075 - mae: 0.0570\n",
      "Epoch 55/100\n",
      "10/10 [==============================] - 0s 2ms/step - loss: 0.0075 - mae: 0.0560\n",
      "Epoch 56/100\n",
      "10/10 [==============================] - 0s 2ms/step - loss: 0.0074 - mae: 0.0563\n",
      "Epoch 57/100\n",
      "10/10 [==============================] - 0s 2ms/step - loss: 0.0074 - mae: 0.0558\n",
      "Epoch 58/100\n",
      "10/10 [==============================] - 0s 2ms/step - loss: 0.0074 - mae: 0.0550\n",
      "Epoch 59/100\n",
      "10/10 [==============================] - 0s 2ms/step - loss: 0.0073 - mae: 0.0566\n",
      "Epoch 60/100\n",
      "10/10 [==============================] - 0s 2ms/step - loss: 0.0073 - mae: 0.0550\n",
      "Epoch 61/100\n",
      "10/10 [==============================] - 0s 2ms/step - loss: 0.0073 - mae: 0.0543\n",
      "Epoch 62/100\n",
      "10/10 [==============================] - 0s 2ms/step - loss: 0.0072 - mae: 0.0550\n",
      "Epoch 63/100\n",
      "10/10 [==============================] - 0s 2ms/step - loss: 0.0072 - mae: 0.0541\n",
      "Epoch 64/100\n",
      "10/10 [==============================] - 0s 2ms/step - loss: 0.0071 - mae: 0.0541\n",
      "Epoch 65/100\n",
      "10/10 [==============================] - 0s 2ms/step - loss: 0.0071 - mae: 0.0545\n",
      "Epoch 66/100\n",
      "10/10 [==============================] - 0s 2ms/step - loss: 0.0071 - mae: 0.0548\n",
      "Epoch 67/100\n",
      "10/10 [==============================] - 0s 2ms/step - loss: 0.0070 - mae: 0.0528\n",
      "Epoch 68/100\n",
      "10/10 [==============================] - 0s 2ms/step - loss: 0.0070 - mae: 0.0536\n",
      "Epoch 69/100\n",
      "10/10 [==============================] - 0s 2ms/step - loss: 0.0070 - mae: 0.0540\n",
      "Epoch 70/100\n",
      "10/10 [==============================] - 0s 2ms/step - loss: 0.0069 - mae: 0.0523\n",
      "Epoch 71/100\n",
      "10/10 [==============================] - 0s 2ms/step - loss: 0.0069 - mae: 0.0544\n",
      "Epoch 72/100\n",
      "10/10 [==============================] - 0s 2ms/step - loss: 0.0069 - mae: 0.0520\n",
      "Epoch 73/100\n",
      "10/10 [==============================] - 0s 2ms/step - loss: 0.0069 - mae: 0.0538\n",
      "Epoch 74/100\n",
      "10/10 [==============================] - 0s 2ms/step - loss: 0.0069 - mae: 0.0508\n",
      "Epoch 75/100\n",
      "10/10 [==============================] - 0s 2ms/step - loss: 0.0068 - mae: 0.0538\n",
      "Epoch 76/100\n",
      "10/10 [==============================] - 0s 2ms/step - loss: 0.0067 - mae: 0.0529\n",
      "Epoch 77/100\n",
      "10/10 [==============================] - 0s 2ms/step - loss: 0.0067 - mae: 0.0512\n",
      "Epoch 78/100\n",
      "10/10 [==============================] - 0s 2ms/step - loss: 0.0067 - mae: 0.0541\n",
      "Epoch 79/100\n",
      "10/10 [==============================] - 0s 2ms/step - loss: 0.0067 - mae: 0.0496\n",
      "Epoch 80/100\n",
      "10/10 [==============================] - 0s 2ms/step - loss: 0.0067 - mae: 0.0535\n",
      "Epoch 81/100\n",
      "10/10 [==============================] - 0s 2ms/step - loss: 0.0067 - mae: 0.0513\n",
      "Epoch 82/100\n",
      "10/10 [==============================] - 0s 2ms/step - loss: 0.0066 - mae: 0.0518\n",
      "Epoch 83/100\n",
      "10/10 [==============================] - 0s 2ms/step - loss: 0.0066 - mae: 0.0524\n",
      "Epoch 84/100\n",
      "10/10 [==============================] - 0s 2ms/step - loss: 0.0066 - mae: 0.0516\n",
      "Epoch 85/100\n",
      "10/10 [==============================] - 0s 2ms/step - loss: 0.0066 - mae: 0.0504\n",
      "Epoch 86/100\n",
      "10/10 [==============================] - 0s 2ms/step - loss: 0.0065 - mae: 0.0511\n",
      "Epoch 87/100\n",
      "10/10 [==============================] - 0s 2ms/step - loss: 0.0066 - mae: 0.0500\n",
      "Epoch 88/100\n",
      "10/10 [==============================] - 0s 2ms/step - loss: 0.0065 - mae: 0.0536\n",
      "Epoch 89/100\n",
      "10/10 [==============================] - 0s 2ms/step - loss: 0.0065 - mae: 0.0496\n",
      "Epoch 90/100\n",
      "10/10 [==============================] - 0s 2ms/step - loss: 0.0065 - mae: 0.0517\n",
      "Epoch 91/100\n",
      "10/10 [==============================] - 0s 2ms/step - loss: 0.0065 - mae: 0.0494\n",
      "Epoch 92/100\n",
      "10/10 [==============================] - 0s 2ms/step - loss: 0.0065 - mae: 0.0525\n",
      "Epoch 93/100\n",
      "10/10 [==============================] - 0s 2ms/step - loss: 0.0064 - mae: 0.0503\n",
      "Epoch 94/100\n",
      "10/10 [==============================] - 0s 2ms/step - loss: 0.0065 - mae: 0.0503\n",
      "Epoch 95/100\n",
      "10/10 [==============================] - 0s 2ms/step - loss: 0.0064 - mae: 0.0494\n",
      "Epoch 96/100\n",
      "10/10 [==============================] - 0s 2ms/step - loss: 0.0065 - mae: 0.0526\n",
      "Epoch 97/100\n",
      "10/10 [==============================] - 0s 2ms/step - loss: 0.0064 - mae: 0.0488\n",
      "Epoch 98/100\n",
      "10/10 [==============================] - 0s 2ms/step - loss: 0.0064 - mae: 0.0513\n",
      "Epoch 99/100\n",
      "10/10 [==============================] - 0s 2ms/step - loss: 0.0064 - mae: 0.0502\n",
      "Epoch 100/100\n",
      "10/10 [==============================] - 0s 2ms/step - loss: 0.0064 - mae: 0.0495\n"
     ]
    }
   ],
   "source": [
    "hist = model.fit(X_train, Y_train, epochs=100, batch_size=107)"
   ]
  },
  {
   "cell_type": "code",
   "execution_count": 21,
   "metadata": {
    "colab": {
     "base_uri": "https://localhost:8080/"
    },
    "execution": {
     "iopub.execute_input": "2023-11-10T19:22:14.861791Z",
     "iopub.status.busy": "2023-11-10T19:22:14.861468Z",
     "iopub.status.idle": "2023-11-10T19:22:14.869120Z",
     "shell.execute_reply": "2023-11-10T19:22:14.867555Z",
     "shell.execute_reply.started": "2023-11-10T19:22:14.861762Z"
    },
    "id": "W_XgaaBaLEhX",
    "outputId": "ee283bf0-939c-4891-e49e-6e46cfec1c63"
   },
   "outputs": [
    {
     "data": {
      "text/plain": [
       "dict_keys(['validation_data', 'model', '_chief_worker_only', '_supports_tf_logs', 'history', 'params', 'epoch'])"
      ]
     },
     "execution_count": 21,
     "metadata": {},
     "output_type": "execute_result"
    }
   ],
   "source": [
    "hist.__dict__.keys()"
   ]
  },
  {
   "cell_type": "code",
   "execution_count": 22,
   "metadata": {
    "colab": {
     "base_uri": "https://localhost:8080/"
    },
    "execution": {
     "iopub.execute_input": "2023-11-10T19:22:14.871079Z",
     "iopub.status.busy": "2023-11-10T19:22:14.870495Z",
     "iopub.status.idle": "2023-11-10T19:22:14.891356Z",
     "shell.execute_reply": "2023-11-10T19:22:14.890421Z",
     "shell.execute_reply.started": "2023-11-10T19:22:14.871046Z"
    },
    "id": "rw9qi2nPLEhX",
    "outputId": "42400df7-58f4-43ed-8b9b-93712a6752c0"
   },
   "outputs": [
    {
     "data": {
      "text/plain": [
       "dict_keys(['loss', 'mae'])"
      ]
     },
     "execution_count": 22,
     "metadata": {},
     "output_type": "execute_result"
    }
   ],
   "source": [
    "hist.history.keys()"
   ]
  },
  {
   "cell_type": "code",
   "execution_count": 23,
   "metadata": {
    "execution": {
     "iopub.execute_input": "2023-11-10T19:22:14.893153Z",
     "iopub.status.busy": "2023-11-10T19:22:14.892499Z",
     "iopub.status.idle": "2023-11-10T19:22:15.223173Z",
     "shell.execute_reply": "2023-11-10T19:22:15.221864Z",
     "shell.execute_reply.started": "2023-11-10T19:22:14.893119Z"
    }
   },
   "outputs": [
    {
     "data": {
      "image/png": "[encoded data removed]",
      "text/plain": [
       "<Figure size 640x480 with 1 Axes>"
      ]
     },
     "metadata": {},
     "output_type": "display_data"
    },
    {
     "data": {
      "text/plain": [
       "<Figure size 640x480 with 0 Axes>"
      ]
     },
     "metadata": {},
     "output_type": "display_data"
    }
   ],
   "source": [
    "from matplotlib import pyplot as plt\n",
    "# plot training loss\n",
    "loss = hist.history['loss']\n",
    "plt.plot(loss, color='red')\n",
    "plt.title('Model Loss', color='green')\n",
    "plt.ylabel('loss', color='green')\n",
    "plt.xlabel('epoch', color='green')\n",
    "plt.legend(['train'], loc='upper right')\n",
    "plt.show()\n",
    "plt.savefig('loss_curve.png')"
   ]
  },
  {
   "cell_type": "code",
   "execution_count": 24,
   "metadata": {
    "execution": {
     "iopub.execute_input": "2023-11-10T19:22:15.225263Z",
     "iopub.status.busy": "2023-11-10T19:22:15.224790Z",
     "iopub.status.idle": "2023-11-10T19:22:15.524064Z",
     "shell.execute_reply": "2023-11-10T19:22:15.522904Z",
     "shell.execute_reply.started": "2023-11-10T19:22:15.225221Z"
    }
   },
   "outputs": [
    {
     "data": {
      "image/png": "[encoded data removed]",
      "text/plain": [
       "<Figure size 640x480 with 1 Axes>"
      ]
     },
     "metadata": {},
     "output_type": "display_data"
    },
    {
     "data": {
      "text/plain": [
       "<Figure size 640x480 with 0 Axes>"
      ]
     },
     "metadata": {},
     "output_type": "display_data"
    }
   ],
   "source": [
    "# plot training loss\n",
    "mae = hist.history['mae']\n",
    "plt.plot(mae, color='red')\n",
    "plt.title('Mean Abosolute Error', color='green')\n",
    "plt.ylabel('mae', color='green')\n",
    "plt.xlabel('epoch', color='green')\n",
    "plt.legend(['train'], loc='upper right')\n",
    "plt.show()\n",
    "plt.savefig('mae_curve.png')"
   ]
  },
  {
   "cell_type": "code",
   "execution_count": 25,
   "metadata": {
    "colab": {
     "base_uri": "https://localhost:8080/"
    },
    "execution": {
     "iopub.execute_input": "2023-11-10T19:22:15.525643Z",
     "iopub.status.busy": "2023-11-10T19:22:15.525333Z",
     "iopub.status.idle": "2023-11-10T19:22:15.746836Z",
     "shell.execute_reply": "2023-11-10T19:22:15.746051Z",
     "shell.execute_reply.started": "2023-11-10T19:22:15.525616Z"
    },
    "id": "Qg1sEV_jLEhY",
    "outputId": "54c24a5d-e742-428f-ed69-0e1897c3be60"
   },
   "outputs": [
    {
     "name": "stdout",
     "output_type": "stream",
     "text": [
      "3/3 [==============================] - 0s 3ms/step - loss: 0.0059 - mae: 0.0497\n"
     ]
    }
   ],
   "source": [
    "history_test = model.evaluate(X_test, Y_test, batch_size=107)"
   ]
  },
  {
   "cell_type": "code",
   "execution_count": 26,
   "metadata": {
    "colab": {
     "base_uri": "https://localhost:8080/"
    },
    "execution": {
     "iopub.execute_input": "2023-11-10T19:22:15.748868Z",
     "iopub.status.busy": "2023-11-10T19:22:15.748287Z",
     "iopub.status.idle": "2023-11-10T19:22:15.839480Z",
     "shell.execute_reply": "2023-11-10T19:22:15.838572Z",
     "shell.execute_reply.started": "2023-11-10T19:22:15.748835Z"
    },
    "id": "YcnBw6tLLEhY",
    "outputId": "ca7ee62f-cfef-4f58-fd86-976fd4b29453"
   },
   "outputs": [
    {
     "name": "stdout",
     "output_type": "stream",
     "text": [
      "10/10 [==============================] - 0s 2ms/step - loss: 0.0063 - mae: 0.0505\n"
     ]
    }
   ],
   "source": [
    "history_train = model.evaluate(X_train, Y_train, batch_size=107)"
   ]
  },
  {
   "cell_type": "code",
   "execution_count": 27,
   "metadata": {
    "colab": {
     "base_uri": "https://localhost:8080/"
    },
    "execution": {
     "iopub.execute_input": "2023-11-10T19:22:15.842186Z",
     "iopub.status.busy": "2023-11-10T19:22:15.841118Z",
     "iopub.status.idle": "2023-11-10T19:22:15.849249Z",
     "shell.execute_reply": "2023-11-10T19:22:15.847995Z",
     "shell.execute_reply.started": "2023-11-10T19:22:15.842142Z"
    },
    "id": "kTsNYO1PLEhY",
    "outputId": "d7a660e3-cb86-4023-fd71-c1523217eadb"
   },
   "outputs": [
    {
     "data": {
      "text/plain": [
       "[0.005867056082934141, 0.04968413710594177]"
      ]
     },
     "execution_count": 27,
     "metadata": {},
     "output_type": "execute_result"
    }
   ],
   "source": [
    "history_test"
   ]
  },
  {
   "cell_type": "code",
   "execution_count": 28,
   "metadata": {
    "execution": {
     "iopub.execute_input": "2023-11-10T19:22:15.854012Z",
     "iopub.status.busy": "2023-11-10T19:22:15.853591Z",
     "iopub.status.idle": "2023-11-10T19:22:15.861067Z",
     "shell.execute_reply": "2023-11-10T19:22:15.859986Z",
     "shell.execute_reply.started": "2023-11-10T19:22:15.853966Z"
    }
   },
   "outputs": [
    {
     "data": {
      "text/plain": [
       "[0.006330186501145363, 0.05050738900899887]"
      ]
     },
     "execution_count": 28,
     "metadata": {},
     "output_type": "execute_result"
    }
   ],
   "source": [
    "history_train"
   ]
  }
 ],
 "metadata": {
  "interpreter": {
   "hash": "243097d9b82650434a57d5e2c1290a3e5ae4cf3af9d9da437ed42734f0bb881c"
  },
  "kernelspec": {
   "display_name": "Python 3 (ipykernel)",
   "language": "python",
   "name": "python3"
  },
  "language_info": {
   "codemirror_mode": {
    "name": "ipython",
    "version": 3
   },
   "file_extension": ".py",
   "mimetype": "text/x-python",
   "name": "python",
   "nbconvert_exporter": "python",
   "pygments_lexer": "ipython3",
   "version": "3.11.4"
  }
 },
 "nbformat": 4,
 "nbformat_minor": 4
}
